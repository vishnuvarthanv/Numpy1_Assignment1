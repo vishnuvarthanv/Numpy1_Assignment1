{
 "cells": [
  {
   "cell_type": "code",
   "execution_count": 4,
   "metadata": {},
   "outputs": [
    {
     "data": {
      "text/plain": [
       "array([[  3,   1],\n",
       "       [  5,   1],\n",
       "       [  7,   1],\n",
       "       [  2,   1],\n",
       "       [  8,   1],\n",
       "       [ 10,   1],\n",
       "       [ 11,   1],\n",
       "       [ 65,   1],\n",
       "       [ 72,   1],\n",
       "       [ 81,   1],\n",
       "       [ 99,   1],\n",
       "       [100,   1],\n",
       "       [150,   1]])"
      ]
     },
     "execution_count": 4,
     "metadata": {},
     "output_type": "execute_result"
    }
   ],
   "source": [
    "#Method 1\n",
    "import numpy as np\n",
    "x = np.array([3, 5, 7, 2, 8, 10, 11, 65, 72, 81, 99, 100, 150])\n",
    "N = 2\n",
    "np.vander(x, N)"
   ]
  },
  {
   "cell_type": "code",
   "execution_count": 11,
   "metadata": {},
   "outputs": [
    {
     "data": {
      "text/plain": [
       "array([[  3,   1],\n",
       "       [  5,   1],\n",
       "       [  7,   1],\n",
       "       [  2,   1],\n",
       "       [  8,   1],\n",
       "       [ 10,   1],\n",
       "       [ 11,   1],\n",
       "       [ 65,   1],\n",
       "       [ 72,   1],\n",
       "       [ 81,   1],\n",
       "       [ 99,   1],\n",
       "       [100,   1],\n",
       "       [150,   1]], dtype=int32)"
      ]
     },
     "execution_count": 11,
     "metadata": {},
     "output_type": "execute_result"
    }
   ],
   "source": [
    "#Method 2\n",
    "import numpy as np\n",
    "x = np.array([3, 5, 7, 2, 8, 10, 11, 65, 72, 81, 99, 100, 150])\n",
    "N = 2\n",
    "np.column_stack([x**(N-1-i) for i in range(N)])"
   ]
  }
 ],
 "metadata": {
  "kernelspec": {
   "display_name": "Python 3",
   "language": "python",
   "name": "python3"
  },
  "language_info": {
   "codemirror_mode": {
    "name": "ipython",
    "version": 3
   },
   "file_extension": ".py",
   "mimetype": "text/x-python",
   "name": "python",
   "nbconvert_exporter": "python",
   "pygments_lexer": "ipython3",
   "version": "3.6.8"
  }
 },
 "nbformat": 4,
 "nbformat_minor": 2
}
